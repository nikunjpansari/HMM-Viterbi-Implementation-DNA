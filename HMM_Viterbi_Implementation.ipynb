{
  "nbformat": 4,
  "nbformat_minor": 0,
  "metadata": {
    "colab": {
      "name": "HMM_Viterbi_Implementation.ipynb",
      "provenance": [],
      "collapsed_sections": []
    },
    "kernelspec": {
      "name": "python3",
      "display_name": "Python 3"
    },
    "language_info": {
      "name": "python"
    }
  },
  "cells": [
    {
      "cell_type": "code",
      "metadata": {
        "colab": {
          "base_uri": "https://localhost:8080/"
        },
        "id": "mzfV6rB0qnso",
        "outputId": "f2c1d724-6431-410e-83a1-a510745cc46e"
      },
      "source": [
        "#Implementation of HMM Viterbi Algorithm on Toy dataset\n",
        "\n",
        "# Defining States\n",
        "states = ('H', 'L')\n",
        "\n",
        "# Defining Observations\n",
        "observations = ('A', 'C', 'G','T')\n",
        "\n",
        "# Defining Start Probabilities\n",
        "start_probability = {'H': 0.5, 'L': 0.5}\n",
        "\n",
        "# Defining Transition Probabilities\n",
        "transition_probability = {\n",
        "   'H' : {'H': 0.5, 'L': 0.5},\n",
        "   'L' :   {'H': 0.4, 'L': 0.6},\n",
        "   }\n",
        " \n",
        "# Defining Emission Probabilities\n",
        "emission_probability = {\n",
        "   'H' : {'A': 0.2, 'C': 0.3, 'G': 0.3, 'T':0.2},\n",
        "   'L'   : {'A': 0.3, 'C': 0.2, 'G': 0.2, 'T':0.3},\n",
        "   }\n",
        "\n",
        "#Defining a Viterbit function to implement Viterbi algorithm by taking input parameters as observations,states,transition,state and emission probabilities. \n",
        "\n",
        "def Viterbit(obs, states, s_pro, t_pro, e_pro):\n",
        "\tpath = { s:[] for s in states} # init path: path[s] represents the path ends with s\n",
        "\tcurr_pro = {}\n",
        "\tfor s in states:\n",
        "\t\tcurr_pro[s] = s_pro[s]*e_pro[s][obs[0]]\n",
        "\tfor i in range(1, len(obs)):\n",
        "\t\tlast_pro = curr_pro\n",
        "\t\tcurr_pro = {}\n",
        "\t\tfor curr_state in states:\n",
        "\t\t\tmax_pro, last_sta = max(((last_pro[last_state]*t_pro[last_state][curr_state]*e_pro[curr_state][obs[i]], last_state) \n",
        "\t\t\t\t                       for last_state in states))\n",
        "\t\t\tcurr_pro[curr_state] = max_pro\n",
        "\t\t\tpath[curr_state].append(last_sta)\n",
        "\n",
        "\t# find the Optimal max probability\n",
        "\tmax_pro = -1\n",
        "\tmax_path = None\n",
        "\tfor s in states:\n",
        "\t\tpath[s].append(s)\n",
        "\t\tif curr_pro[s] > max_pro:\n",
        "\t\t\tmax_path = path[s]\n",
        "\t\t\tmax_pro = curr_pro[s]\n",
        "\t\t#print(curr_pro[s], path[s]) # different path and their probability\n",
        "\tprint('Probability of Optimal Path : ',max_pro)\t\n",
        "\treturn max_path\n",
        "\n",
        "# Using Different observations to obtain the optimal State sequence\n",
        "if __name__ == '__main__':\n",
        "\tobs = ['G','G','C','A','C','T','G','A','A']\n",
        "\tprint('Optimal State Sequence :',Viterbit(obs, states, start_probability, transition_probability, emission_probability))"
      ],
      "execution_count": 12,
      "outputs": [
        {
          "output_type": "stream",
          "name": "stdout",
          "text": [
            "Probability of Optimal Path :  4.251527999999999e-08\n",
            "Optimal State Sequence : ['H', 'H', 'H', 'L', 'L', 'L', 'L', 'L', 'L']\n"
          ]
        }
      ]
    },
    {
      "cell_type": "code",
      "metadata": {
        "colab": {
          "base_uri": "https://localhost:8080/"
        },
        "id": "b3ij5gqLuMeG",
        "outputId": "ed38b634-8cb7-4dab-975b-a814487bb618"
      },
      "source": [
        "if __name__ == '__main__':\n",
        "\tobs = ['G','G','C','A']\n",
        "\tprint('Optimal State Sequence :',Viterbit(obs, states, start_probability, transition_probability, emission_probability))"
      ],
      "execution_count": 13,
      "outputs": [
        {
          "output_type": "stream",
          "name": "stdout",
          "text": [
            "Probability of Optimal Path :  0.00050625\n",
            "Optimal State Sequence : ['H', 'H', 'H', 'L']\n"
          ]
        }
      ]
    },
    {
      "cell_type": "code",
      "metadata": {
        "colab": {
          "base_uri": "https://localhost:8080/"
        },
        "id": "4-AHswN6BeBB",
        "outputId": "71a24fec-f2f9-4826-e9c1-8d408d7104a9"
      },
      "source": [
        "if __name__ == '__main__':\n",
        "\tobs = ['G','T','C','A','G','T']\n",
        "\tprint('Optimal State Sequence :',Viterbit(obs, states, start_probability, transition_probability, emission_probability))"
      ],
      "execution_count": 14,
      "outputs": [
        {
          "output_type": "stream",
          "name": "stdout",
          "text": [
            "Probability of Optimal Path :  1.04976e-05\n",
            "Optimal State Sequence : ['H', 'L', 'L', 'L', 'L', 'L']\n"
          ]
        }
      ]
    }
  ]
}